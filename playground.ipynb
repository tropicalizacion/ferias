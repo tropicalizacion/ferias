{
 "cells": [
  {
   "cell_type": "markdown",
   "metadata": {},
   "source": [
    "# Pruebas para opening_hours"
   ]
  },
  {
   "cell_type": "code",
   "execution_count": 8,
   "metadata": {},
   "outputs": [],
   "source": [
    "import humanized_opening_hours as hoh\n",
    "from datetime import datetime\n",
    "\n",
    "# Today\n",
    "today = datetime.today()\n",
    "\n",
    "# Test 1: Guadalupe\n",
    "field = \"Fr 12:00-20:00; Sa 05:00-13:00\"\n"
   ]
  },
  {
   "cell_type": "code",
   "execution_count": 59,
   "metadata": {},
   "outputs": [
    {
     "name": "stdout",
     "output_type": "stream",
     "text": [
      "HOH: ['OHParser', 'OHRenderer', '__appname__', '__author__', '__builtins__', '__cached__', '__doc__', '__file__', '__licence__', '__loader__', '__name__', '__package__', '__path__', '__spec__', '__version__', 'exceptions', 'field_description', 'field_parser', 'gettext', 'main', 'os', 'render_field', 'temporal_objects', 'utils']\n",
      "OHParser: ['__class__', '__delattr__', '__dict__', '__dir__', '__doc__', '__eq__', '__format__', '__ge__', '__getattribute__', '__getitem__', '__gt__', '__hash__', '__init__', '__init_subclass__', '__le__', '__lt__', '__module__', '__ne__', '__new__', '__reduce__', '__reduce_ex__', '__repr__', '__setattr__', '__sizeof__', '__str__', '__subclasshook__', '__weakref__', '_get_now', '_get_solar_hour', 'get_day', 'holidays_status', 'is_open', 'next_change', 'render', 'sanitize']\n",
      "OHRenderer: ['__class__', '__delattr__', '__dict__', '__dir__', '__doc__', '__eq__', '__format__', '__ge__', '__getattribute__', '__gt__', '__hash__', '__init__', '__init_subclass__', '__le__', '__lt__', '__module__', '__ne__', '__new__', '__reduce__', '__reduce_ex__', '__repr__', '__setattr__', '__sizeof__', '__str__', '__subclasshook__', '__weakref__', '_format_date', '_join_list', '_render_universal_moment', 'available_locales', 'full_description', 'get_human_names', 'periods_of_day', 'plaintext_week_description', 'set_locale', 'time_before_next_change']\n"
     ]
    }
   ],
   "source": [
    "print(f\"HOH: {dir(hoh)}\")\n",
    "print(f\"OHParser: {dir(hoh.OHParser)}\")\n",
    "print(f\"OHRenderer: {dir(hoh.OHRenderer)}\")"
   ]
  },
  {
   "cell_type": "code",
   "execution_count": 100,
   "metadata": {},
   "outputs": [
    {
     "name": "stdout",
     "output_type": "stream",
     "text": [
      "['Monday: 08:00 to 19:00.']\n",
      "\n",
      "OHParser object\n",
      "Type of 'oh': <class 'humanized_opening_hours.main.OHParser'>\n",
      "get_day: <Day 'Fr' (0 periods)>\n",
      "Type: <class 'humanized_opening_hours.temporal_objects.Day'>\n",
      "holidays_status: {'PH': None, 'SH': None}\n",
      "Type: <class 'dict'>\n",
      "is_open: False\n",
      "Type: <class 'bool'>\n",
      "next_change: 2023-08-07 08:00:00+00:00\n",
      "Type: <class 'datetime.datetime'>\n",
      "sanitize: Mo 08:00-19:00\n",
      "Type: <class 'str'>\n",
      "\n",
      "OHRenderer object\n",
      "Type of 're': <class 'humanized_opening_hours.main.OHRenderer'>\n",
      "available_locales: ['en']\n",
      "Type: <class 'list'>\n",
      "full_description: ['Monday: 08:00 to 19:00.']\n",
      "Type: <class 'list'>\n",
      "get_human_names: {'days': ['Monday', 'Tuesday', 'Wednesday', 'Thursday', 'Friday', 'Saturday', 'Sunday'], 'months': ['January', 'February', 'March', 'April', 'May', 'June', 'July', 'August', 'September', 'October', 'November', 'December']}\n",
      "Type: <class 'dict'>\n",
      "periods_of_day: RenderableDay(name='Friday', description='', dt=datetime.datetime(2023, 8, 4, 0, 0))\n",
      "Type: <class 'humanized_opening_hours.main.RenderableDay'>\n",
      "plaintext_week_description: Monday: 08:00 - 19:00\n",
      "Tuesday: closed\n",
      "Wednesday: closed\n",
      "Thursday: closed\n",
      "Friday: closed\n",
      "Saturday: closed\n",
      "Sunday: closed\n",
      "Type: <class 'str'>\n",
      "set_locale: <OHRenderer>\n",
      "Type: <class 'humanized_opening_hours.main.OHRenderer'>\n",
      "time_before_next_change: in 3 days\n",
      "Type: <class 'str'>\n",
      "renderable_day: 0, type: <class 'int'>\n"
     ]
    }
   ],
   "source": [
    "today = datetime.today()\n",
    "test = \"Mo 08:00-19:00\"\n",
    "# HOH object\n",
    "opening_hours = hoh.field_description(test)\n",
    "print(opening_hours)\n",
    "\n",
    "# OHParser object\n",
    "print(\"\\nOHParser object\")\n",
    "oh = hoh.OHParser(test)\n",
    "print(f\"Type of 'oh': {type(oh)}\")\n",
    "get_day = oh.get_day(today)\n",
    "print(f\"get_day: {get_day}\\nType: {type(oh.get_day(today))}\")\n",
    "holidays_status = oh.holidays_status()\n",
    "print(f\"holidays_status: {holidays_status}\\nType: {type(holidays_status)}\")\n",
    "is_open = oh.is_open(today)\n",
    "print(f\"is_open: {is_open}\\nType: {type(is_open)}\")\n",
    "next_change = oh.next_change()\n",
    "print(f\"next_change: {next_change}\\nType: {type(next_change)}\")\n",
    "sanitize = oh.sanitize(test)\n",
    "print(f\"sanitize: {sanitize}\\nType: {type(sanitize)}\")\n",
    "\n",
    "# OHRenderer object\n",
    "print(\"\\nOHRenderer object\")\n",
    "re = oh.render()\n",
    "print(f\"Type of 're': {type(re)}\")\n",
    "available_locales = re.available_locales()\n",
    "print(f\"available_locales: {available_locales}\\nType: {type(available_locales)}\")\n",
    "full_description = re.full_description()\n",
    "print(f\"full_description: {full_description}\\nType: {type(full_description)}\")\n",
    "get_human_names = re.get_human_names()\n",
    "print(f\"get_human_names: {get_human_names}\\nType: {type(get_human_names)}\")\n",
    "periods_of_day = re.periods_of_day(today)\n",
    "print(f\"periods_of_day: {periods_of_day}\\nType: {type(periods_of_day)}\")\n",
    "plaintext_week_description = re.plaintext_week_description()\n",
    "print(f\"plaintext_week_description: {plaintext_week_description}\\nType: {type(plaintext_week_description)}\")\n",
    "set_locale = re.set_locale(\"en\")\n",
    "print(f\"set_locale: {set_locale}\\nType: {type(set_locale)}\")\n",
    "time_before_next_change = re.time_before_next_change()\n",
    "print(f\"time_before_next_change: {time_before_next_change}\\nType: {type(time_before_next_change)}\")\n",
    "\n",
    "# RenderableDay object\n",
    "renderable_day = periods_of_day.count(today)\n",
    "print(f\"renderable_day: {renderable_day}, type: {type(renderable_day)}\")\n"
   ]
  },
  {
   "cell_type": "code",
   "execution_count": 70,
   "metadata": {},
   "outputs": [
    {
     "name": "stdout",
     "output_type": "stream",
     "text": [
      "<OHParser field: 'Sa 05:00-13:00'>\n"
     ]
    }
   ],
   "source": [
    "print(oh)"
   ]
  },
  {
   "cell_type": "code",
   "execution_count": 89,
   "metadata": {},
   "outputs": [
    {
     "name": "stdout",
     "output_type": "stream",
     "text": [
      "d1: 1 de abril de 2007\n",
      "d2: Sonntag, 1. April 2007\n",
      "t1: 11:30 AM\n",
      "t2: 11:30 AM\n",
      "dt1: 02007.April.01 AD 03:30 PM\n"
     ]
    }
   ],
   "source": [
    "from datetime import date, datetime, time\n",
    "from babel.dates import format_date, format_datetime, format_time\n",
    "\n",
    "d = date(2007, 4, 1)\n",
    "d1 = format_date(d, format=\"long\", locale='es')\n",
    "print(f\"d1: {d1}\")\n",
    "d2 = format_date(d, format=\"full\", locale='de')\n",
    "print(f\"d2: {d2}\")\n",
    "\n",
    "t = time(11, 30)\n",
    "t1 = format_time(t, \"h:mm a\", locale='en')\n",
    "print(f\"t1: {t1}\")\n",
    "t2 = format_time(t, 'H:mm a', locale='de')\n",
    "print(f\"t2: {t2}\")\n",
    "\n",
    "dt = datetime(2007, 4, 1, 15, 30)\n",
    "dt1 = format_datetime(dt, \"yyyyy.MMMM.dd GGG hh:mm a\", locale='en')\n",
    "print(f\"dt1: {dt1}\")\n",
    "\n",
    "schedule = ['Friday: 12:00 to 20:00.', 'Saturday: 05:00 to 13:00.']\n",
    "# For each day in schedule, get the day and the times\n",
    "for day in schedule:\n",
    "    "
   ]
  },
  {
   "cell_type": "code",
   "execution_count": 13,
   "metadata": {},
   "outputs": [],
   "source": [
    "schedule = oh.render().plaintext_week_description()"
   ]
  },
  {
   "cell_type": "code",
   "execution_count": 14,
   "metadata": {},
   "outputs": [
    {
     "name": "stdout",
     "output_type": "stream",
     "text": [
      "Monday: closed\n",
      "Tuesday: closed\n",
      "Wednesday: closed\n",
      "Thursday: closed\n",
      "Friday: 12:00 - 20:00\n",
      "Saturday: 05:00 - 13:00\n",
      "Sunday: closed\n"
     ]
    }
   ],
   "source": [
    "print(schedule)"
   ]
  },
  {
   "cell_type": "code",
   "execution_count": 15,
   "metadata": {},
   "outputs": [],
   "source": [
    "io = oh.is_open()\n",
    "nc = oh.next_change()\n",
    "re = oh.render()\n"
   ]
  },
  {
   "cell_type": "code",
   "execution_count": 16,
   "metadata": {},
   "outputs": [
    {
     "data": {
      "text/plain": [
       "['__class__',\n",
       " '__delattr__',\n",
       " '__dict__',\n",
       " '__dir__',\n",
       " '__doc__',\n",
       " '__eq__',\n",
       " '__format__',\n",
       " '__ge__',\n",
       " '__getattribute__',\n",
       " '__gt__',\n",
       " '__hash__',\n",
       " '__init__',\n",
       " '__init_subclass__',\n",
       " '__le__',\n",
       " '__lt__',\n",
       " '__module__',\n",
       " '__ne__',\n",
       " '__new__',\n",
       " '__reduce__',\n",
       " '__reduce_ex__',\n",
       " '__repr__',\n",
       " '__setattr__',\n",
       " '__sizeof__',\n",
       " '__str__',\n",
       " '__subclasshook__',\n",
       " '__weakref__',\n",
       " '_format_date',\n",
       " '_join_list',\n",
       " '_render_universal_moment',\n",
       " 'available_locales',\n",
       " 'babel_locale',\n",
       " 'full_description',\n",
       " 'get_human_names',\n",
       " 'locale_name',\n",
       " 'ohparser',\n",
       " 'periods_of_day',\n",
       " 'plaintext_week_description',\n",
       " 'set_locale',\n",
       " 'time_before_next_change',\n",
       " 'universal']"
      ]
     },
     "execution_count": 16,
     "metadata": {},
     "output_type": "execute_result"
    }
   ],
   "source": [
    "dir(re)"
   ]
  },
  {
   "cell_type": "code",
   "execution_count": 17,
   "metadata": {},
   "outputs": [
    {
     "data": {
      "text/plain": [
       "['Friday: 12:00 to 20:00.', 'Saturday: 05:00 to 13:00.']"
      ]
     },
     "execution_count": 17,
     "metadata": {},
     "output_type": "execute_result"
    }
   ],
   "source": [
    "re.full_description()"
   ]
  },
  {
   "cell_type": "code",
   "execution_count": 18,
   "metadata": {},
   "outputs": [
    {
     "data": {
      "text/plain": [
       "RenderableDay(name='Friday', description='12:00 - 20:00', dt=datetime.datetime(2023, 8, 4, 0, 0))"
      ]
     },
     "execution_count": 18,
     "metadata": {},
     "output_type": "execute_result"
    }
   ],
   "source": [
    "re.periods_of_day(today)"
   ]
  },
  {
   "cell_type": "markdown",
   "metadata": {},
   "source": [
    "### Prueba de views.py"
   ]
  },
  {
   "cell_type": "code",
   "execution_count": 19,
   "metadata": {},
   "outputs": [
    {
     "name": "stdout",
     "output_type": "stream",
     "text": [
      "True\n",
      "['Friday: 11:00 to 20:00.', 'Saturday: 05:00 to 13:00.']\n"
     ]
    }
   ],
   "source": [
    "import humanized_opening_hours as hoh\n",
    "from datetime import datetime\n",
    "\n",
    "test = \"Fr 12:00-20:00; Sa 05:00-13:00\"\n",
    "# test = \"\"\n",
    "\n",
    "now = datetime.now()\n",
    "\n",
    "opening_hours = test\n",
    "is_open = None\n",
    "description = None\n",
    "if opening_hours != \"\":\n",
    "    try:\n",
    "        oh = hoh.OHParser(opening_hours)\n",
    "        is_open = oh.is_open()\n",
    "        description = oh.render().full_description()\n",
    "    except:\n",
    "        pass\n",
    "    \n",
    "print(is_open)\n",
    "print(description)\n"
   ]
  },
  {
   "cell_type": "code",
   "execution_count": 98,
   "metadata": {},
   "outputs": [
    {
     "name": "stdout",
     "output_type": "stream",
     "text": [
      "1\n"
     ]
    }
   ],
   "source": []
  },
  {
   "cell_type": "code",
   "execution_count": null,
   "metadata": {},
   "outputs": [],
   "source": []
  }
 ],
 "metadata": {
  "kernelspec": {
   "display_name": "base",
   "language": "python",
   "name": "python3"
  },
  "language_info": {
   "codemirror_mode": {
    "name": "ipython",
    "version": 3
   },
   "file_extension": ".py",
   "mimetype": "text/x-python",
   "name": "python",
   "nbconvert_exporter": "python",
   "pygments_lexer": "ipython3",
   "version": "3.9.12"
  },
  "orig_nbformat": 4
 },
 "nbformat": 4,
 "nbformat_minor": 2
}
